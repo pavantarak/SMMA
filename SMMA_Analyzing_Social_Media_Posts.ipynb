{
  "cells": [
    {
      "cell_type": "code",
      "source": [
        "import pandas as pd\n",
        "import re\n",
        "import nltk\n",
        "from nltk.corpus import stopwords\n",
        "nltk.download('stopwords')\n",
        "df = pd.read_csv(\"social_media_posts.csv\")\n",
        "stop_words = set(stopwords.words('english'))\n",
        "def clean_post(post):\n",
        "    post = re.sub(r'http\\S+|www\\S+|https\\S+', '', post)\n",
        "    post = re.sub(r'\\W', ' ', post)\n",
        "    post = post.lower()\n",
        "    words = re.split(r'\\s+', post)\n",
        "    cleaned_post = ' '.join([word for word in words if word not in stop_words and word != ''])\n",
        "    return cleaned_post\n",
        "df['cleaned_post_text'] = df['post_text'].apply(clean_post)\n",
        "print('Before cleaning:')\n",
        "print(df[['post_id', 'username', 'post_text']].head())\n",
        "print()\n",
        "\n",
        "print('After cleaning:')\n",
        "print(df[['cleaned_post_text']].head())\n"
      ],
      "metadata": {
        "colab": {
          "base_uri": "https://localhost:8080/"
        },
        "id": "Yh0JUrigNXAd",
        "outputId": "6f85d2c6-a820-480d-9ef8-727f1da7c994"
      },
      "execution_count": null,
      "outputs": [
        {
          "output_type": "stream",
          "name": "stdout",
          "text": [
            "Before cleaning:\n",
            "   post_id username                                          post_text\n",
            "0        1    user1  Check out this amazing website: https://exampl...\n",
            "1        2    user2  I love programming in Python!!! 💻🔥 #coding #de...\n",
            "2        3    user3  Follow me on Twitter at https://twitter.com/us...\n",
            "3        4    user4  Great weather today! ☀️ Let's go for a walk. #...\n",
            "4        5    user5  New blog post is up: https://myblog.com. Read ...\n",
            "\n",
            "After cleaning:\n",
            "                          cleaned_post_text\n",
            "0            check amazing website fun cool\n",
            "1  love programming python coding developer\n",
            "2                    follow twitter updates\n",
            "3    great weather today let go walk nature\n",
            "4         new blog post read share blogging\n"
          ]
        },
        {
          "output_type": "stream",
          "name": "stderr",
          "text": [
            "[nltk_data] Downloading package stopwords to /root/nltk_data...\n",
            "[nltk_data]   Package stopwords is already up-to-date!\n"
          ]
        }
      ]
    }
  ],
  "metadata": {
    "colab": {
      "provenance": []
    },
    "kernelspec": {
      "display_name": "Python 3",
      "name": "python3"
    }
  },
  "nbformat": 4,
  "nbformat_minor": 0
}